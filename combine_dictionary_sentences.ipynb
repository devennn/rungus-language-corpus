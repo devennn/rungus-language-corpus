{
 "cells": [
  {
   "cell_type": "code",
   "execution_count": 1,
   "metadata": {},
   "outputs": [],
   "source": [
    "from pathlib import Path\n",
    "import os\n",
    "import pandas as pd\n",
    "import json"
   ]
  },
  {
   "cell_type": "code",
   "execution_count": 2,
   "metadata": {},
   "outputs": [],
   "source": [
    "alphabets = [\n",
    "    'a', 'b', 'c', 'd', 'e', 'f',\n",
    "    'g', 'h', 'i', 'j', 'k', 'l',\n",
    "    'm', 'n', 'o', 'p', 'q', 'r',\n",
    "    's', 't', 'u', 'v', 'w', 'x',\n",
    "    'y', 'z'\n",
    "]\n",
    "\n",
    "sntcs_fname = ['part_1', 'part_2', 'part_3', 'part_4', 'part_5', 'part_6']\n",
    "\n",
    "path = Path('.').parent.absolute()"
   ]
  },
  {
   "cell_type": "code",
   "execution_count": 3,
   "metadata": {},
   "outputs": [],
   "source": [
    "all_dictionary = []\n",
    "\n",
    "for letter in alphabets:\n",
    "    fname = letter + '.json'\n",
    "    data_path = os.path.join(path, 'eng-rgs-dictionary', fname)\n",
    "    df = pd.read_json(data_path)\n",
    "    [all_dictionary.append([df.iloc[i].values[0], df.iloc[i].values[1]]) for i in range(len(df))]"
   ]
  },
  {
   "cell_type": "code",
   "execution_count": 4,
   "metadata": {},
   "outputs": [],
   "source": [
    "with open('all_dictionary.json', 'w') as f:\n",
    "    json.dump(all_dictionary, f)"
   ]
  },
  {
   "cell_type": "code",
   "execution_count": 5,
   "metadata": {},
   "outputs": [
    {
     "name": "stdout",
     "output_type": "stream",
     "text": [
      "C:\\Users\\myins\\Desktop\\Programming\\sabah-native-language-corpus\\rungus-language-corpus\\eng-rgs-sentences\\part_1.json\n",
      "C:\\Users\\myins\\Desktop\\Programming\\sabah-native-language-corpus\\rungus-language-corpus\\eng-rgs-sentences\\part_2.json\n",
      "C:\\Users\\myins\\Desktop\\Programming\\sabah-native-language-corpus\\rungus-language-corpus\\eng-rgs-sentences\\part_3.json\n",
      "C:\\Users\\myins\\Desktop\\Programming\\sabah-native-language-corpus\\rungus-language-corpus\\eng-rgs-sentences\\part_4.json\n",
      "C:\\Users\\myins\\Desktop\\Programming\\sabah-native-language-corpus\\rungus-language-corpus\\eng-rgs-sentences\\part_5.json\n",
      "C:\\Users\\myins\\Desktop\\Programming\\sabah-native-language-corpus\\rungus-language-corpus\\eng-rgs-sentences\\part_6.json\n"
     ]
    }
   ],
   "source": [
    "all_sentences = []\n",
    "\n",
    "for file in sntcs_fname:\n",
    "    fname = file + '.json'\n",
    "    data_path = os.path.join(path, 'eng-rgs-sentences', fname)\n",
    "    print(data_path)\n",
    "    with open(data_path, 'r', encoding='utf-8') as f:\n",
    "        df = json.loads(f.read())\n",
    "    [all_sentences.append(df[i]) for i in range(len(df))]"
   ]
  },
  {
   "cell_type": "code",
   "execution_count": 6,
   "metadata": {},
   "outputs": [],
   "source": [
    "with open('all_sentences.json', 'w') as f:\n",
    "    json.dump(all_sentences, f)"
   ]
  }
 ],
 "metadata": {
  "kernelspec": {
   "display_name": "Python 3",
   "language": "python",
   "name": "python3"
  },
  "language_info": {
   "codemirror_mode": {
    "name": "ipython",
    "version": 3
   },
   "file_extension": ".py",
   "mimetype": "text/x-python",
   "name": "python",
   "nbconvert_exporter": "python",
   "pygments_lexer": "ipython3",
   "version": "3.7.5"
  }
 },
 "nbformat": 4,
 "nbformat_minor": 2
}
