{
 "cells": [
  {
   "cell_type": "code",
   "execution_count": 1,
   "metadata": {},
   "outputs": [],
   "source": [
    "import pandas as pd\n",
    "import operator\n",
    "from nltk.tokenize import word_tokenize\n",
    "import string\n",
    "import csv\n",
    "from matplotlib import pyplot as plt"
   ]
  },
  {
   "cell_type": "code",
   "execution_count": 2,
   "metadata": {},
   "outputs": [],
   "source": [
    "dictionary = pd.read_json('all_dictionary.json')\n",
    "sentences = pd.read_json('all_sentences.json')\n",
    "\n",
    "save_overview = True"
   ]
  },
  {
   "cell_type": "markdown",
   "metadata": {},
   "source": [
    "## Overview of Rungus language"
   ]
  },
  {
   "cell_type": "code",
   "execution_count": 3,
   "metadata": {},
   "outputs": [],
   "source": [
    "table = str.maketrans('', '', string.punctuation)\n",
    "rgs_freq = {}\n",
    "all_data_rgs = [dictionary[1], sentences[1]]\n",
    "for data in all_data_rgs:\n",
    "    for line in data:\n",
    "        word_tokens = word_tokenize(line)\n",
    "        word_tokens = [w.translate(table) for w in word_tokens]\n",
    "        word_tokens = [x for x in word_tokens if x]\n",
    "        for word in word_tokens:\n",
    "            if word not in rgs_freq:\n",
    "                rgs_freq[word] = 1\n",
    "            else:\n",
    "                rgs_freq[word] += 1"
   ]
  },
  {
   "cell_type": "code",
   "execution_count": 4,
   "metadata": {},
   "outputs": [
    {
     "name": "stdout",
     "output_type": "stream",
     "text": [
      "Total rungus words:  1927\n",
      "Top 100 frequent words\n",
      "[('do', 87), ('ong', 67), ('no', 65), ('sid', 54), ('di', 50), ('oku', 46), ('ku', 40), ('ko', 38), ('i', 31), ('po', 27), ('nu', 26), ('tu', 26), ('diti', 22), ('dino', 22), ('iti', 20), ('dot', 20), ('it', 20), ('tokou', 19), ('o', 17), ('ino', 17), ('ka', 17), ('ilo', 16), ('om', 16), ('koposizan', 15), ('anak', 14), ('ulun', 13), ('dau', 13), ('dikou', 13), ('pomogunan', 12), ('yalo', 12), ('amu', 12), ('Kinoringan', 12), ('vagu', 11), ('Nunu', 9), ('dit', 9), ('I', 8), ('ogi', 8), ('dilo', 8), ('ginavo', 7), ('antad', 7), ('silod', 7), ('dohon', 7), ('nga', 7), ('biano', 7), ('banal', 7), ('addau', 6), ('ot', 6), ('darun', 6), ('ikau', 6), ('siin', 6), ('Amu', 6), ('sinod', 6), ('diri', 6), ('minatai', 5), ('bala', 5), ('ngaran', 5), ('banalko', 5), ('ilot', 5), ('banat', 5), ('aso', 5), ('dioti', 5), ('dati', 5), ('kou', 5), ('makan', 5), ('ralan', 5), ('penlaid', 5), ('Isai', 5), ('riniba', 5), ('mang', 5), ('oi', 5), ('It', 5), ('Yehovah', 5), ('Kitab', 5), ('binulugu', 4), ('ongkob', 4), ('angaanak', 4), ('ohigak', 4), ('solumpak', 4), ('dikau', 4), ('vaig', 4), ('inot', 4), ('Ogumu', 4), ('hiza', 4), ('savo', 4), ('ma', 4), ('Kadan', 4), ('mamanau', 4), ('valai', 4), ('vitilon', 4), ('dialo', 4), ('okoi', 4), ('mahi', 4), ('bai', 4), ('Ong', 4), ('muli', 4), ('varo', 4), ('kadapat', 4), ('punti', 3), ('votis', 3), ('tana', 3)]\n"
     ]
    }
   ],
   "source": [
    "sorted_rgs_freq = sorted(rgs_freq.items(), key=operator.itemgetter(1),\n",
    "                         reverse=True)\n",
    "# Overview\n",
    "print('Total rungus words: ', len(sorted_rgs_freq))\n",
    "print('Top 100 frequent words')\n",
    "print(sorted_rgs_freq[:100])"
   ]
  },
  {
   "cell_type": "markdown",
   "metadata": {},
   "source": [
    "## Overview of english for rungus translation"
   ]
  },
  {
   "cell_type": "code",
   "execution_count": 6,
   "metadata": {},
   "outputs": [],
   "source": [
    "eng_freq = {}\n",
    "all_data_eng = [dictionary[0], sentences[0]]\n",
    "for data in all_data_eng:\n",
    "    for sentence in data:\n",
    "        word_tokens = word_tokenize(sentence)\n",
    "        word_tokens = [w.translate(table) for w in word_tokens]\n",
    "        word_tokens = [x for x in word_tokens if x]\n",
    "        for word in word_tokens:\n",
    "            if word not in eng_freq:\n",
    "                eng_freq[word] = 1\n",
    "            else:\n",
    "                eng_freq[word] += 1"
   ]
  },
  {
   "cell_type": "code",
   "execution_count": 7,
   "metadata": {},
   "outputs": [
    {
     "name": "stdout",
     "output_type": "stream",
     "text": [
      "Total rungus words:  1783\n",
      "Top 100 frequent words\n",
      "[('the', 142), ('of', 131), ('a', 122), ('to', 100), ('is', 76), ('I', 69), ('in', 68), ('you', 67), ('take', 56), ('make', 35), ('name', 33), ('on', 31), ('with', 30), ('for', 29), ('at', 28), ('your', 28), ('s', 27), ('kind', 26), ('life', 26), ('eat', 26), ('if', 24), ('The', 24), ('that', 23), ('and', 23), ('by', 21), ('can', 21), ('fall', 21), ('very', 21), ('nt', 21), ('large', 20), ('do', 20), ('are', 20), ('will', 20), ('as', 18), ('up', 18), ('it', 18), ('my', 18), ('because', 17), ('me', 17), ('water', 16), ('tree', 16), ('or', 15), ('from', 15), ('bamboo', 14), ('back', 14), ('walk', 14), ('we', 13), ('when', 13), ('like', 13), ('same', 13), ('rain', 13), ('this', 13), ('person', 12), ('type', 12), ('banana', 12), ('call', 12), ('be', 12), ('have', 12), ('want', 12), ('house', 11), ('fish', 11), ('time', 11), ('near', 11), ('hand', 11), ('keep', 11), ('What', 11), ('would', 11), ('God', 11), ('out', 10), ('an', 10), ('down', 10), ('family', 10), ('hang', 10), ('all', 10), ('not', 10), ('young', 10), ('he', 10), ('We', 10), ('Do', 10), ('was', 10), ('You', 10), ('so', 9), ('one', 9), ('earth', 9), ('join', 9), ('who', 9), ('go', 9), ('long', 8), ('small', 8), ('dead', 8), ('get', 8), ('over', 8), ('off', 8), ('floor', 8), ('heart', 8), ('only', 8), ('jump', 8), ('walking', 8), ('paddy', 8), ('He', 8)]\n"
     ]
    }
   ],
   "source": [
    "sorted_eng_freq = sorted(eng_freq.items(), key=operator.itemgetter(1),\n",
    "                         reverse=True)\n",
    "# Top 10 frequent words\n",
    "print('Total rungus words: ', len(sorted_eng_freq))\n",
    "print('Top 100 frequent words')\n",
    "print(sorted_eng_freq[:100])"
   ]
  },
  {
   "cell_type": "code",
   "execution_count": 8,
   "metadata": {},
   "outputs": [],
   "source": [
    "if(save_overview == True):\n",
    "    with open('rgs_overview.csv', 'w', newline='') as f:\n",
    "        f_out = csv.writer(f)\n",
    "        f_out.writerow(['word', 'frequency'])\n",
    "        for row in sorted_rgs_freq:\n",
    "            f_out.writerow(row)\n",
    "    \n",
    "    with open('rgs_eng_translated_overview.csv', 'w', newline='') as f:\n",
    "        f_out = csv.writer(f)\n",
    "        f_out.writerow(['word', 'frequency'])\n",
    "        for row in sorted_eng_freq:\n",
    "            f_out.writerow(row)"
   ]
  },
  {
   "cell_type": "code",
   "execution_count": null,
   "metadata": {},
   "outputs": [],
   "source": []
  },
  {
   "cell_type": "code",
   "execution_count": null,
   "metadata": {},
   "outputs": [],
   "source": []
  }
 ],
 "metadata": {
  "kernelspec": {
   "display_name": "Python 3",
   "language": "python",
   "name": "python3"
  },
  "language_info": {
   "codemirror_mode": {
    "name": "ipython",
    "version": 3
   },
   "file_extension": ".py",
   "mimetype": "text/x-python",
   "name": "python",
   "nbconvert_exporter": "python",
   "pygments_lexer": "ipython3",
   "version": "3.7.5"
  }
 },
 "nbformat": 4,
 "nbformat_minor": 2
}
