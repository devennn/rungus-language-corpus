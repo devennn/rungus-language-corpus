{
 "cells": [
  {
   "cell_type": "code",
   "execution_count": 24,
   "metadata": {},
   "outputs": [],
   "source": [
    "from pathlib import Path\n",
    "import os\n",
    "import pandas as pd\n",
    "import json\n",
    "import string"
   ]
  },
  {
   "cell_type": "code",
   "execution_count": 30,
   "metadata": {},
   "outputs": [
    {
     "name": "stdout",
     "output_type": "stream",
     "text": [
      "C:\\Users\\myins\\Desktop\\Programming\\sabah-native-language-corpus\\rungus-language-corpus\\untranslated-data\\new_phrase_3.json\n",
      "                                                     0\n",
      "0                                             tahankan\n",
      "1                                         siin onuvoni\n",
      "2                       po sid alud yosido sid saralom\n",
      "3    vaig Na ka di ginavo ku Ong aso no koindakadan...\n",
      "4                 kosunu okoi Kumudat opungai oku laid\n",
      "..                                                 ...\n",
      "365                                 votik dot inan dau\n",
      "366                                             Akahag\n",
      "367                                       Yoku kondiri\n",
      "368                                         Sansangkil\n",
      "369                                             warana\n",
      "\n",
      "[370 rows x 1 columns]\n"
     ]
    }
   ],
   "source": [
    "path = Path('.').parent.absolute()\n",
    "data_path = os.path.join(path, 'untranslated-data', 'new_phrase_3.json')\n",
    "print(data_path)\n",
    "df = pd.read_json(data_path)\n",
    "print(df)"
   ]
  },
  {
   "cell_type": "code",
   "execution_count": 32,
   "metadata": {},
   "outputs": [
    {
     "name": "stdout",
     "output_type": "stream",
     "text": [
      "149\n"
     ]
    }
   ],
   "source": [
    "stopword = [' do ', ' ong ', ' no ', ' oku ', ' ku ', ' sid ', ' di ',\n",
    "            ' ko ', ' nu ', ' tu ', ' po ', ' dino ', ' diti ', \n",
    "           ' iti ', ' dot ', ' i ', ' ka ', ' ilo ', ' ino ', ' o ']\n",
    "transtable = str.maketrans('', '', string.punctuation)\n",
    "new_phrase = []\n",
    "for s in stopword:\n",
    "    for snt in df[0]:\n",
    "        if s in snt:\n",
    "            splitted = snt.split(s)\n",
    "            splitted[0] = splitted[0].translate(transtable)\n",
    "            if splitted[0] not in new_phrase and splitted[0] not in df[0]:\n",
    "                new_phrase.append(splitted[0])\n",
    "            splitted[1] = splitted[1].translate(transtable)\n",
    "            if splitted[1] not in new_phrase and splitted[0] not in df[0]:\n",
    "                new_phrase.append(splitted[1])\n",
    "print(len(new_phrase))"
   ]
  },
  {
   "cell_type": "code",
   "execution_count": 33,
   "metadata": {},
   "outputs": [],
   "source": [
    "new_phrase = json.dumps(new_phrase)\n",
    "save_path = os.path.join(path, 'untranslated-data', 'new_phrase_4.json')\n",
    "with open(save_path, 'w') as f:\n",
    "    f.write(new_phrase)"
   ]
  },
  {
   "cell_type": "code",
   "execution_count": null,
   "metadata": {},
   "outputs": [],
   "source": []
  }
 ],
 "metadata": {
  "kernelspec": {
   "display_name": "Python 3",
   "language": "python",
   "name": "python3"
  },
  "language_info": {
   "codemirror_mode": {
    "name": "ipython",
    "version": 3
   },
   "file_extension": ".py",
   "mimetype": "text/x-python",
   "name": "python",
   "nbconvert_exporter": "python",
   "pygments_lexer": "ipython3",
   "version": "3.7.5"
  }
 },
 "nbformat": 4,
 "nbformat_minor": 2
}
