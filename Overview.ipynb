{
 "cells": [
  {
   "cell_type": "code",
   "execution_count": 86,
   "metadata": {},
   "outputs": [],
   "source": [
    "import pandas as pd\n",
    "import operator\n",
    "from nltk.tokenize import word_tokenize\n",
    "import string"
   ]
  },
  {
   "cell_type": "code",
   "execution_count": 87,
   "metadata": {},
   "outputs": [],
   "source": [
    "dictionary = pd.read_json('all_dictionary.json')\n",
    "sentences = pd.read_json('all_sentences.json')\n",
    "\n",
    "save_overview = True"
   ]
  },
  {
   "cell_type": "markdown",
   "metadata": {},
   "source": [
    "## Overview of Rungus language"
   ]
  },
  {
   "cell_type": "code",
   "execution_count": 106,
   "metadata": {},
   "outputs": [],
   "source": [
    "table = str.maketrans('', '', string.punctuation)\n",
    "rgs_freq = {}\n",
    "all_data_rgs = [dictionary[1], sentences[1]]\n",
    "for data in all_data_rgs:\n",
    "    for line in data:\n",
    "        word_tokens = word_tokenize(line)\n",
    "        word_tokens = [w.translate(table) for w in word_tokens]\n",
    "        word_tokens = [x for x in word_tokens if x]\n",
    "        for word in word_tokens:\n",
    "            if word not in rgs_freq:\n",
    "                rgs_freq[word] = 1\n",
    "            else:\n",
    "                rgs_freq[word] += 1"
   ]
  },
  {
   "cell_type": "code",
   "execution_count": 125,
   "metadata": {},
   "outputs": [
    {
     "name": "stdout",
     "output_type": "stream",
     "text": [
      "Total rungus words:  1757\n",
      "Top 100 frequent words\n",
      "[('do', 75), ('ong', 66), ('no', 53), ('oku', 46), ('ku', 38), ('sid', 36), ('di', 35), ('ko', 35), ('nu', 26), ('tu', 25), ('po', 24), ('dino', 22), ('diti', 20), ('iti', 19), ('dot', 18), ('i', 18), ('ka', 17), ('ilo', 16), ('ino', 16), ('o', 14), ('anak', 13), ('dikou', 13), ('yalo', 12), ('amu', 11), ('dau', 10), ('tokou', 10), ('ulun', 9), ('it', 8), ('ogi', 8), ('dilo', 8), ('I', 7), ('silod', 7), ('dohon', 7), ('biano', 7), ('addau', 6), ('ikau', 6), ('vagu', 6), ('siin', 6), ('Nunu', 6), ('banal', 6), ('diri', 6), ('bala', 5), ('ngaran', 5), ('ilot', 5), ('Amu', 5), ('sinod', 5), ('banat', 5), ('nga', 5), ('dati', 5), ('kou', 5), ('makan', 5), ('mang', 5), ('oi', 5), ('binulugu', 4), ('darun', 4), ('solumpak', 4), ('dikau', 4), ('inot', 4), ('Ogumu', 4), ('antad', 4), ('savo', 4), ('aso', 4), ('dioti', 4), ('ma', 4), ('ot', 4), ('Kadan', 4), ('mamanau', 4), ('valai', 4), ('dialo', 4), ('okoi', 4), ('mahi', 4), ('bai', 4), ('muli', 4), ('punti', 3), ('ongkob', 3), ('ranzat', 3), ('obuk', 3), ('yoku', 3), ('pogi', 3), ('sakit', 3), ('kaluto', 3), ('angaanak', 3), ('miabal', 3), ('aya', 3), ('mija', 3), ('nabambaran', 3), ('banalko', 3), ('natad', 3), ('vaig', 3), ('Posuvango', 3), ('Aso', 3), ('kito', 3), ('karabau', 3), ('Nokuro', 3), ('mongomot', 3), ('kazu', 3), ('vitilon', 3), ('naku', 3), ('tanga', 3), ('ralan', 3)]\n"
     ]
    }
   ],
   "source": [
    "sorted_rgs_freq = sorted(rgs_freq.items(), key=operator.itemgetter(1),\n",
    "                         reverse=True)\n",
    "# Overview\n",
    "print('Total rungus words: ', len(sorted_rgs_freq))\n",
    "print('Top 100 frequent words')\n",
    "print(sorted_rgs_freq[:100])"
   ]
  },
  {
   "cell_type": "markdown",
   "metadata": {},
   "source": [
    "## Overview of english for rungus translation"
   ]
  },
  {
   "cell_type": "code",
   "execution_count": 126,
   "metadata": {},
   "outputs": [],
   "source": [
    "eng_freq = {}\n",
    "all_data_eng = [dictionary[0], sentences[0]]\n",
    "for data in all_data_eng:\n",
    "    for sentence in data:\n",
    "        word_tokens = word_tokenize(sentence)\n",
    "        word_tokens = [w.translate(table) for w in word_tokens]\n",
    "        word_tokens = [x for x in word_tokens if x]\n",
    "        for word in word_tokens:\n",
    "            if word not in eng_freq:\n",
    "                eng_freq[word] = 1\n",
    "            else:\n",
    "                eng_freq[word] += 1"
   ]
  },
  {
   "cell_type": "code",
   "execution_count": 127,
   "metadata": {},
   "outputs": [
    {
     "name": "stdout",
     "output_type": "stream",
     "text": [
      "Total rungus words:  1640\n",
      "Top 100 frequent words\n",
      "[('of', 118), ('a', 116), ('the', 113), ('to', 75), ('is', 71), ('I', 67), ('you', 66), ('in', 62), ('take', 55), ('make', 35), ('name', 33), ('at', 28), ('kind', 26), ('with', 26), ('eat', 26), ('for', 24), ('on', 24), ('if', 24), ('your', 24), ('s', 22), ('by', 21), ('fall', 21), ('nt', 21), ('large', 20), ('very', 20), ('The', 20), ('are', 20), ('that', 18), ('up', 18), ('do', 18), ('can', 17), ('it', 17), ('because', 17), ('my', 17), ('me', 17), ('tree', 16), ('will', 16), ('or', 15), ('water', 15), ('as', 15), ('bamboo', 14), ('from', 14), ('walk', 14), ('when', 13), ('back', 13), ('like', 13), ('same', 13), ('we', 12), ('type', 12), ('banana', 12), ('call', 12), ('have', 12), ('this', 12), ('house', 11), ('person', 11), ('fish', 11), ('near', 11), ('hand', 11), ('keep', 11), ('rain', 11), ('want', 11), ('time', 10), ('out', 10), ('an', 10), ('down', 10), ('be', 10), ('hang', 10), ('and', 10), ('not', 10), ('young', 10), ('You', 10), ('would', 10), ('so', 9), ('one', 9), ('join', 9), ('he', 9), ('go', 9), ('long', 8), ('small', 8), ('get', 8), ('over', 8), ('off', 8), ('jump', 8), ('walking', 8), ('paddy', 8), ('Do', 8), ('am', 8), ('sound', 7), ('wood', 7), ('baby', 7), ('easily', 7), ('palm', 7), ('under', 7), ('rattan', 7), ('case', 7), ('money', 7), ('work', 7), ('easy', 7), ('face', 7), ('fallen', 7)]\n"
     ]
    }
   ],
   "source": [
    "sorted_eng_freq = sorted(eng_freq.items(), key=operator.itemgetter(1),\n",
    "                         reverse=True)\n",
    "# Top 10 frequent words\n",
    "print('Total rungus words: ', len(sorted_eng_freq))\n",
    "print('Top 100 frequent words')\n",
    "print(sorted_eng_freq[:100])"
   ]
  },
  {
   "cell_type": "code",
   "execution_count": 115,
   "metadata": {},
   "outputs": [],
   "source": [
    "if(save_overview == True):\n",
    "    with open('rgs_overview.csv', 'w', newline='') as f:\n",
    "        f_out = csv.writer(f)\n",
    "        f_out.writerow(['word', 'frequency'])\n",
    "        for row in sorted_rgs_freq:\n",
    "            f_out.writerow(row)\n",
    "    \n",
    "    with open('rgs_eng_translated_overview.csv', 'w', newline='') as f:\n",
    "        f_out = csv.writer(f)\n",
    "        f_out.writerow(['word', 'frequency'])\n",
    "        for row in sorted_eng_freq:\n",
    "            f_out.writerow(row)"
   ]
  },
  {
   "cell_type": "code",
   "execution_count": null,
   "metadata": {},
   "outputs": [],
   "source": []
  }
 ],
 "metadata": {
  "kernelspec": {
   "display_name": "Python 3",
   "language": "python",
   "name": "python3"
  },
  "language_info": {
   "codemirror_mode": {
    "name": "ipython",
    "version": 3
   },
   "file_extension": ".py",
   "mimetype": "text/x-python",
   "name": "python",
   "nbconvert_exporter": "python",
   "pygments_lexer": "ipython3",
   "version": "3.7.5"
  }
 },
 "nbformat": 4,
 "nbformat_minor": 2
}
